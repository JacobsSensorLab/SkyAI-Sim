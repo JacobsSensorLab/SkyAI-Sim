{
 "cells": [
  {
   "cell_type": "code",
   "execution_count": null,
   "metadata": {},
   "outputs": [],
   "source": [
    "# @title Import Libraries\n",
    "import sys\n",
    "import math\n",
    "import glob, os\n",
    "import cv2\n",
    "import numpy as np\n",
    "import pandas as pd\n",
    "import geopy.distance\n",
    "from pathlib import Path\n",
    "import tensorflow as tf\n",
    "import matplotlib.pyplot as plt\n",
    "import seaborn as sns\n",
    "from skimage import exposure\n",
    "from skimage import feature\n",
    "import skimage.measure\n"
   ]
  },
  {
   "cell_type": "code",
   "execution_count": null,
   "metadata": {},
   "outputs": [],
   "source": [
    "# Setup paths and import local libraries\n",
    "%cd ../../\n",
    "\n",
    "prj_path = Path('SkyAI-Sim')\n",
    "sys.path.insert(0, str(prj_path))\n",
    "from src.utils import img_helper\n",
    "from src.utils.io_helper import str_to_floats\n",
    "from src.utils import consts\n",
    "from src.data.googlemap import GoogleMap\n",
    "\n",
    "args = consts.ARGS\n",
    "args"
   ]
  },
  {
   "cell_type": "code",
   "execution_count": null,
   "metadata": {},
   "outputs": [],
   "source": [
    "aerial_data = GoogleMap(\n",
    "        args=args,\n",
    "        map_type='roadmap',\n",
    "        data_dir=args.data_dir,\n",
    "        overlap=args.overlap\n",
    "        )\n",
    "aerial_data.config(download_raster=True)\n"
   ]
  },
  {
   "cell_type": "code",
   "execution_count": null,
   "metadata": {},
   "outputs": [],
   "source": [
    "aerial_imgs_path = glob.glob(os.path.join(aerial_data.data_dir / 'images', \"*.jpg\"))\n",
    "aerial_imgs_path.sort()\n",
    "print(len(aerial_imgs_path))\n",
    "aerial_imgs, aerial_titles = img_helper.choose_random_images(nx*ny,\n",
    "                                                            aerial_imgs_path,\n",
    "                                                            output_dir=aerial_data.data_dir / 'random_sample',\n",
    "                                                            obj=aerial_data,\n",
    "                                                            seed=seed)"
   ]
  },
  {
   "cell_type": "code",
   "execution_count": null,
   "metadata": {},
   "outputs": [],
   "source": [
    "import skimage.measure\n",
    "entropys = [skimage.measure.shannon_entropy(img) for img in aerial_imgs]\n",
    "\n",
    "img_helper.plot_multy(aerial_imgs, aerial_data.data_dir /'entropies', nx, ny, entropys)"
   ]
  },
  {
   "cell_type": "code",
   "execution_count": null,
   "metadata": {},
   "outputs": [],
   "source": [
    "road_n = [cv2.normalize(img, None, alpha = 0, beta = 255,\n",
    "                       norm_type = cv2.NORM_MINMAX,\n",
    "                       dtype = cv2.CV_32F).astype('uint8') for img in aerial_imgs]\n",
    "road_gray = [cv2.cvtColor(real_img, cv2.COLOR_BGR2GRAY) for real_img in road_n]\n",
    "img_helper.plot_multy(road_gray, '../Gray Scale \\nRoadmap Images', nx, ny, aerial_titles)"
   ]
  },
  {
   "cell_type": "code",
   "execution_count": null,
   "metadata": {},
   "outputs": [],
   "source": [
    "\n",
    "road_eq = [cv2.equalizeHist(img) for img in road_gray]\n",
    "img_helper.plot_multy(road_eq, '../Equalized Gray Scale \\nRoadmap Images', nx, ny, aerial_titles)"
   ]
  },
  {
   "cell_type": "code",
   "execution_count": null,
   "metadata": {},
   "outputs": [],
   "source": [
    "# equalize each color channel\n",
    "eq_color = [cv2.merge([cv2.equalizeHist(channel) for channel in cv2.split(img)]) for img in road_n]\n",
    "img_helper.plot_multy(eq_color, '../Equalized Color \\nRoadmap Images', nx, ny, aerial_titles)"
   ]
  },
  {
   "cell_type": "code",
   "execution_count": null,
   "metadata": {},
   "outputs": [],
   "source": []
  },
  {
   "cell_type": "code",
   "execution_count": null,
   "metadata": {},
   "outputs": [],
   "source": []
  }
 ],
 "metadata": {
  "language_info": {
   "name": "python"
  }
 },
 "nbformat": 4,
 "nbformat_minor": 2
}
