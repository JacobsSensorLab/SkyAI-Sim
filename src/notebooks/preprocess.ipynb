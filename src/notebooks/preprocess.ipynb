{
 "cells": [
  {
   "cell_type": "code",
   "execution_count": 1,
   "metadata": {},
   "outputs": [
    {
     "name": "stderr",
     "output_type": "stream",
     "text": [
      "2024-07-31 16:20:20.237192: I tensorflow/core/platform/cpu_feature_guard.cc:193] This TensorFlow binary is optimized with oneAPI Deep Neural Network Library (oneDNN) to use the following CPU instructions in performance-critical operations:  AVX2 FMA\n",
      "To enable them in other operations, rebuild TensorFlow with the appropriate compiler flags.\n",
      "2024-07-31 16:20:21.215619: W tensorflow/compiler/xla/stream_executor/platform/default/dso_loader.cc:64] Could not load dynamic library 'libnvinfer.so.7'; dlerror: libnvinfer.so.7: cannot open shared object file: No such file or directory; LD_LIBRARY_PATH: /home/sdjkhosh/.local/lib/python3.10/site-packages/cv2/../../lib64:/usr/local/cuda/lib64:\n",
      "2024-07-31 16:20:21.215719: W tensorflow/compiler/xla/stream_executor/platform/default/dso_loader.cc:64] Could not load dynamic library 'libnvinfer_plugin.so.7'; dlerror: libnvinfer_plugin.so.7: cannot open shared object file: No such file or directory; LD_LIBRARY_PATH: /home/sdjkhosh/.local/lib/python3.10/site-packages/cv2/../../lib64:/usr/local/cuda/lib64:\n",
      "2024-07-31 16:20:21.215732: W tensorflow/compiler/tf2tensorrt/utils/py_utils.cc:38] TF-TRT Warning: Cannot dlopen some TensorRT libraries. If you would like to use Nvidia GPU with TensorRT, please make sure the missing libraries mentioned above are installed properly.\n"
     ]
    }
   ],
   "source": [
    "# @title Import Libraries\n",
    "import sys\n",
    "import glob, os\n",
    "import cv2\n",
    "import numpy as np\n",
    "import pandas as pd\n",
    "import geopy.distance\n",
    "from pathlib import Path\n",
    "import tensorflow as tf\n",
    "import matplotlib.pyplot as plt\n",
    "import seaborn as sns\n",
    "from skimage import exposure\n",
    "from skimage import feature\n",
    "import skimage.measure\n"
   ]
  },
  {
   "cell_type": "code",
   "execution_count": 2,
   "metadata": {},
   "outputs": [
    {
     "name": "stdout",
     "output_type": "stream",
     "text": [
      "/home/sdjkhosh/Projects/SkyAI-Sim\n"
     ]
    },
    {
     "name": "stderr",
     "output_type": "stream",
     "text": [
      "usage: SkyAI Sim Project [-h] [--coords COORDS] [--fov FOV]\n",
      "                         [--aspect_ratio ASPECT_RATIO [ASPECT_RATIO ...]]\n",
      "                         [--utm UTM] [--data_dir DATA_DIR] [--vmargin VMARGIN]\n",
      "                         [--img_size IMG_SIZE [IMG_SIZE ...]]\n",
      "                         [--overlap OVERLAP] [--batch_size BATCH_SIZE]\n",
      "                         [--seed SEED]\n",
      "SkyAI Sim Project: error: argument --fov: invalid float value: '/home/sdjkhosh/.local/share/jupyter/runtime/kernel-v2-3614848YDxX8HOcCzMU.json'\n"
     ]
    },
    {
     "data": {
      "text/plain": [
       "Namespace(coords=[35.16, -89.9, 35.115, -89.823, 400.0], fov=78.8, aspect_ratio=[4, 3], utm='EPSG:32616', data_dir='dataset/Memphis/', vmargin=20, img_size=[400, 400, 3], overlap=0, batch_size=8, seed=2024)"
      ]
     },
     "execution_count": 2,
     "metadata": {},
     "output_type": "execute_result"
    }
   ],
   "source": [
    "# Setup paths and import local libraries\n",
    "%cd ../../\n",
    "\n",
    "prj_path = Path('SkyAI-Sim')\n",
    "sys.path.insert(0, str(prj_path))\n",
    "from src.utils import img_helper\n",
    "from src.utils.io_helper import str_to_floats\n",
    "from src.utils import consts\n",
    "from src.data.skyai import SkyAI\n",
    "\n",
    "args = consts.ARGS\n",
    "args"
   ]
  },
  {
   "cell_type": "code",
   "execution_count": null,
   "metadata": {},
   "outputs": [],
   "source": [
    "aerial_data = SkyAI(\n",
    "        args=args,\n",
    "        map_type='roadmap',\n",
    "        data_dir=args.data_dir,\n",
    "        overlap=args.overlap\n",
    "        )\n",
    "aerial_data.config(download_raster=True)\n"
   ]
  },
  {
   "cell_type": "code",
   "execution_count": null,
   "metadata": {},
   "outputs": [],
   "source": [
    "aerial_imgs_path = glob.glob(os.path.join(aerial_data.data_dir / 'images', \"*.jpg\"))\n",
    "aerial_imgs_path.sort()\n",
    "print(len(aerial_imgs_path))\n",
    "aerial_imgs, aerial_titles = img_helper.choose_random_images(nx*ny,\n",
    "                                                            aerial_imgs_path,\n",
    "                                                            output_dir=aerial_data.data_dir / 'random_sample',\n",
    "                                                            obj=aerial_data,\n",
    "                                                            seed=seed)"
   ]
  },
  {
   "cell_type": "code",
   "execution_count": null,
   "metadata": {},
   "outputs": [],
   "source": [
    "import skimage.measure\n",
    "entropys = [skimage.measure.shannon_entropy(img) for img in aerial_imgs]\n",
    "\n",
    "img_helper.plot_multy(aerial_imgs, aerial_data.data_dir /'entropies', nx, ny, entropys)"
   ]
  },
  {
   "cell_type": "code",
   "execution_count": null,
   "metadata": {},
   "outputs": [],
   "source": [
    "road_n = [cv2.normalize(img, None, alpha = 0, beta = 255,\n",
    "                       norm_type = cv2.NORM_MINMAX,\n",
    "                       dtype = cv2.CV_32F).astype('uint8') for img in aerial_imgs]\n",
    "road_gray = [cv2.cvtColor(real_img, cv2.COLOR_BGR2GRAY) for real_img in road_n]\n",
    "img_helper.plot_multy(road_gray, '../Gray Scale \\nRoadmap Images', nx, ny, aerial_titles)"
   ]
  },
  {
   "cell_type": "code",
   "execution_count": null,
   "metadata": {},
   "outputs": [],
   "source": [
    "\n",
    "road_eq = [cv2.equalizeHist(img) for img in road_gray]\n",
    "img_helper.plot_multy(road_eq, '../Equalized Gray Scale \\nRoadmap Images', nx, ny, aerial_titles)"
   ]
  },
  {
   "cell_type": "code",
   "execution_count": null,
   "metadata": {},
   "outputs": [],
   "source": [
    "# equalize each color channel\n",
    "eq_color = [cv2.merge([cv2.equalizeHist(channel) for channel in cv2.split(img)]) for img in road_n]\n",
    "img_helper.plot_multy(eq_color, '../Equalized Color \\nRoadmap Images', nx, ny, aerial_titles)"
   ]
  },
  {
   "cell_type": "code",
   "execution_count": null,
   "metadata": {},
   "outputs": [],
   "source": []
  },
  {
   "cell_type": "code",
   "execution_count": null,
   "metadata": {},
   "outputs": [],
   "source": []
  }
 ],
 "metadata": {
  "kernelspec": {
   "display_name": "test",
   "language": "python",
   "name": "python3"
  },
  "language_info": {
   "codemirror_mode": {
    "name": "ipython",
    "version": 3
   },
   "file_extension": ".py",
   "mimetype": "text/x-python",
   "name": "python",
   "nbconvert_exporter": "python",
   "pygments_lexer": "ipython3",
   "version": "3.10.14"
  }
 },
 "nbformat": 4,
 "nbformat_minor": 2
}
