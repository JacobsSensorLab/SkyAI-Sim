{
 "cells": [
  {
   "cell_type": "code",
   "execution_count": 1,
   "metadata": {},
   "outputs": [
    {
     "name": "stderr",
     "output_type": "stream",
     "text": [
      "2024-07-11 17:36:58.605394: I tensorflow/core/platform/cpu_feature_guard.cc:193] This TensorFlow binary is optimized with oneAPI Deep Neural Network Library (oneDNN) to use the following CPU instructions in performance-critical operations:  AVX2 FMA\n",
      "To enable them in other operations, rebuild TensorFlow with the appropriate compiler flags.\n",
      "2024-07-11 17:36:59.578504: W tensorflow/compiler/xla/stream_executor/platform/default/dso_loader.cc:64] Could not load dynamic library 'libnvinfer.so.7'; dlerror: libnvinfer.so.7: cannot open shared object file: No such file or directory; LD_LIBRARY_PATH: /home/sdjkhosh/.local/lib/python3.10/site-packages/cv2/../../lib64:/usr/local/cuda/lib64:\n",
      "2024-07-11 17:36:59.578636: W tensorflow/compiler/xla/stream_executor/platform/default/dso_loader.cc:64] Could not load dynamic library 'libnvinfer_plugin.so.7'; dlerror: libnvinfer_plugin.so.7: cannot open shared object file: No such file or directory; LD_LIBRARY_PATH: /home/sdjkhosh/.local/lib/python3.10/site-packages/cv2/../../lib64:/usr/local/cuda/lib64:\n",
      "2024-07-11 17:36:59.578650: W tensorflow/compiler/tf2tensorrt/utils/py_utils.cc:38] TF-TRT Warning: Cannot dlopen some TensorRT libraries. If you would like to use Nvidia GPU with TensorRT, please make sure the missing libraries mentioned above are installed properly.\n"
     ]
    }
   ],
   "source": [
    "# Import Libraries\n",
    "import sys\n",
    "import math\n",
    "import glob, os\n",
    "import cv2\n",
    "import numpy as np\n",
    "import pandas as pd\n",
    "import geopy.distance\n",
    "from pathlib import Path\n",
    "import tensorflow as tf\n",
    "import matplotlib.pyplot as plt\n",
    "import seaborn as sns\n",
    "import skimage.measure\n",
    "from skimage import exposure\n",
    "from skimage import feature\n"
   ]
  },
  {
   "cell_type": "code",
   "execution_count": 2,
   "metadata": {},
   "outputs": [
    {
     "name": "stdout",
     "output_type": "stream",
     "text": [
      "/home/sdjkhosh/Projects\n",
      "/home/sdjkhosh/Projects/SkyAI-Sim\n",
      "Namespace(coords='dataset/Test/coords_list.txt', fov=78.8, aspect_ratio=[4, 3], overlap=0, utm='EPSG:32616', data_dir='dataset/Test', img_size=[400, 400, 3], batch_size=8, seed=2024)\n"
     ]
    },
    {
     "name": "stderr",
     "output_type": "stream",
     "text": [
      "usage: SkyAI Sim Project [-h] [--coords COORDS] [--fov FOV]\n",
      "                         [--aspect_ratio ASPECT_RATIO [ASPECT_RATIO ...]]\n",
      "                         [--overlap OVERLAP] [--utm UTM] [--data_dir DATA_DIR]\n",
      "                         [--img_size IMG_SIZE [IMG_SIZE ...]]\n",
      "                         [--batch_size {1,2,3,4,5,6,7,8,9,10,11,12,13,14,15,16,17,18,19,20,21,22,23,24,25,26,27,28,29,30,31,32,33,34,35,36,37,38,39,40,41,42,43,44,45,46,47,48,49,50,51,52,53,54,55,56,57,58,59,60,61,62,63,64,65,66,67,68,69,70,71,72,73,74,75,76,77,78,79,80,81,82,83,84,85,86,87,88,89,90,91,92,93,94,95,96,97,98,99,100,101,102,103,104,105,106,107,108,109,110,111,112,113,114,115,116,117,118,119,120,121,122,123,124,125,126,127}]\n",
      "                         [--seed SEED]\n",
      "SkyAI Sim Project: error: argument --fov: invalid float value: '/home/sdjkhosh/.local/share/jupyter/runtime/kernel-v2-1439592zX3t12C2sE52.json'\n"
     ]
    },
    {
     "data": {
      "text/plain": [
       "Namespace(coords='dataset/Test/coords_list.txt', fov=78.8, aspect_ratio=[4, 3], overlap=0, utm='EPSG:32616', data_dir='dataset/Test', img_size=[400, 400, 3], batch_size=8, seed=2024)"
      ]
     },
     "execution_count": 2,
     "metadata": {},
     "output_type": "execute_result"
    }
   ],
   "source": [
    "# Setup paths and import local libraries\n",
    "%cd ~/Projects/\n",
    "%cd SkyAI-Sim\n",
    "\n",
    "prj_path = Path('SkyAI-Sim')\n",
    "sys.path.insert(0, str(prj_path))\n",
    "from src.utils import geo_helper, io_helper, img_helper\n",
    "from src.utils.io_helper import pretty, import_module\n",
    "from src.utils import consts\n",
    "from src.data.googlemap import GoogleMap\n",
    "\n",
    "args = consts.ARGS\n",
    "args"
   ]
  },
  {
   "cell_type": "code",
   "execution_count": 3,
   "metadata": {},
   "outputs": [
    {
     "data": {
      "text/plain": [
       "array([[ 4.07127760e+01, -7.40059740e+01,  5.00000000e+01],\n",
       "       [ 5.15073510e+01, -1.27758000e-01,  2.00000000e+02],\n",
       "       [ 3.56894870e+01,  1.39691711e+02,  1.50000000e+02],\n",
       "       [ 4.88566130e+01,  2.35222200e+00,  7.50000000e+01],\n",
       "       [ 5.57558250e+01,  3.76172980e+01,  1.20000000e+02],\n",
       "       [-3.38688200e+01,  1.51209290e+02,  1.80000000e+02],\n",
       "       [-2.35505200e+01, -4.66333080e+01,  9.00000000e+01],\n",
       "       [ 3.77749290e+01, -1.22419418e+02,  1.30000000e+02],\n",
       "       [ 1.35208300e+00,  1.03819839e+02,  1.10000000e+02]])"
      ]
     },
     "execution_count": 3,
     "metadata": {},
     "output_type": "execute_result"
    }
   ],
   "source": [
    "coords_list = np.asanyarray(pd.read_csv(args.coords, dtype=float, sep=' '))\n",
    "coords_list"
   ]
  },
  {
   "cell_type": "code",
   "execution_count": 4,
   "metadata": {},
   "outputs": [
    {
     "name": "stdout",
     "output_type": "stream",
     "text": [
      "[ 40.712776 -74.005974  50.      ]\n"
     ]
    },
    {
     "name": "stderr",
     "output_type": "stream",
     "text": [
      "2024-07-11 17:37:01.932685: I tensorflow/core/platform/cpu_feature_guard.cc:193] This TensorFlow binary is optimized with oneAPI Deep Neural Network Library (oneDNN) to use the following CPU instructions in performance-critical operations:  AVX2 FMA\n",
      "To enable them in other operations, rebuild TensorFlow with the appropriate compiler flags.\n",
      "2024-07-11 17:37:02.688321: I tensorflow/core/common_runtime/gpu/gpu_device.cc:1613] Created device /job:localhost/replica:0/task:0/device:GPU:0 with 486 MB memory:  -> device: 0, name: NVIDIA TITAN RTX, pci bus id: 0000:81:00.0, compute capability: 7.5\n"
     ]
    },
    {
     "name": "stdout",
     "output_type": "stream",
     "text": [
      "Checking folder:\n",
      "\t dataset/Test/satellite_0 Folder Exists.\n",
      "8.42788501458358e-05 6.345389342499175e-05\n",
      "                   TL         BR Center TL (UTM) BR (UTM) Map Size (m)   \n",
      "y/lat       40.712844  40.712708    NaN      NaN      NaN          NaN  \\\n",
      "x/lon      -74.006093 -74.005855    NaN      NaN      NaN          NaN   \n",
      "z/agl             NaN        NaN    NaN      NaN      NaN          NaN   \n",
      "total/area        NaN        NaN    NaN      NaN      NaN          NaN   \n",
      "\n",
      "           Map Size (pixel/zoom) # Raster Images 1 Image Size (m)   \n",
      "y/lat                        353             NaN            20.03  \\\n",
      "x/lon                        266             NaN            15.02   \n",
      "z/agl                         21             NaN            15.24   \n",
      "total/area                   NaN             NaN           300.85   \n",
      "\n",
      "           1 Image Size (pixel/zoom)  \n",
      "y/lat                            NaN  \n",
      "x/lon                            NaN  \n",
      "z/agl                            NaN  \n",
      "total/area                       NaN  \n",
      "7.287872168859622e-05 7.425679653039197e-05\n",
      "\u001b[40m\n",
      "---------------------------------------------------------------------------\n",
      "        Info:<src.data.googlemap.GoogleMap object at 0x7fe8ff2c77c0>       \n",
      "---------------------------------------------------------------------------\n",
      "\u001b[93m\n",
      "[INFO] Data detailed values before download.\n",
      " TL = Top Left, BR = Bottom Right\n",
      "                    TL         BR     Center    TL (UTM)    BR (UTM) Map Size (m) Map Size (pixel/zoom) # Raster Images 1 Image Size (m) 1 Image Size (pixel/zoom)\n",
      "y/lat       40.712844  40.712708  40.712776  1598895.97  1598918.34        22.36                   353               1            20.03                       611\n",
      "x/lon      -74.006093 -74.005855 -74.005974  4588919.73  4588907.68        12.05                   266               1            15.02                       622\n",
      "z/agl             NaN        NaN        NaN         NaN         NaN          NaN                    21             NaN            15.24                        22\n",
      "total/area        NaN        NaN        NaN         NaN         NaN       269.44                   NaN               1           300.85                       NaN\n",
      "\u001b[0m\u001b[40m\n",
      "---------------------------------------------------------------------------\n",
      "\u001b[0m\n",
      "\u001b[40m\n",
      "---------------------------------------------------------------------------\n",
      "        Info:<src.data.googlemap.GoogleMap object at 0x7fe8ff2c77c0>       \n",
      "---------------------------------------------------------------------------\n",
      "\u001b[93m\n",
      "Map image is available in dataset/Test/satellite_0 as map_40.71284363683373_-74.00609251725294_40.712708363043795_-74.00585548298692_50.0_78.8_4_3.jpg\n",
      "\u001b[0m\u001b[40m\n",
      "---------------------------------------------------------------------------\n",
      "\u001b[0m\n",
      "[ 5.1507351e+01 -1.2775800e-01  2.0000000e+02]\n",
      "Checking folder:\n",
      "\t dataset/Test/satellite_0 Folder Exists.\n",
      "0.0004102881154395277 0.0003085194955403381\n",
      "                   TL         BR Center TL (UTM) BR (UTM) Map Size (m)   \n",
      "y/lat       51.507621  51.507081    NaN      NaN      NaN          NaN  \\\n",
      "x/lon       -0.128335  -0.127181    NaN      NaN      NaN          NaN   \n",
      "z/agl             NaN        NaN    NaN      NaN      NaN          NaN   \n",
      "total/area        NaN        NaN    NaN      NaN      NaN          NaN   \n",
      "\n",
      "           Map Size (pixel/zoom) # Raster Images 1 Image Size (m)   \n",
      "y/lat                        430             NaN            80.12  \\\n",
      "x/lon                        323             NaN            60.09   \n",
      "z/agl                         19             NaN            60.96   \n",
      "total/area                   NaN             NaN          4814.41   \n",
      "\n",
      "           1 Image Size (pixel/zoom)  \n",
      "y/lat                            NaN  \n",
      "x/lon                            NaN  \n",
      "z/agl                            NaN  \n",
      "total/area                       NaN  \n",
      "-0.0002184090071395417 0.00033872367163922945\n",
      "\u001b[40m\n",
      "---------------------------------------------------------------------------\n",
      "        Info:<src.data.googlemap.GoogleMap object at 0x7fe8ff2c75b0>       \n",
      "---------------------------------------------------------------------------\n",
      "\u001b[93m\n",
      "[INFO] Data detailed values before download.\n",
      " TL = Top Left, BR = Bottom Right\n",
      "                    TL         BR     Center    TL (UTM)    BR (UTM) Map Size (m) Map Size (pixel/zoom) # Raster Images 1 Image Size (m) 1 Image Size (pixel/zoom)\n",
      "y/lat       51.507621  51.507081  51.507351  5145685.16  5145768.68        83.52                   430               1            80.12                      -229\n",
      "x/lon       -0.128335  -0.127181  -0.127758  9721113.02  9721209.59        96.57                   323               1            60.09                       355\n",
      "z/agl             NaN        NaN        NaN         NaN         NaN          NaN                    19             NaN            60.96                        19\n",
      "total/area        NaN        NaN        NaN         NaN         NaN      8065.53                   NaN               1          4814.41                       NaN\n",
      "\u001b[0m\u001b[40m\n",
      "---------------------------------------------------------------------------\n",
      "\u001b[0m\n",
      "\u001b[40m\n",
      "---------------------------------------------------------------------------\n",
      "        Info:<src.data.googlemap.GoogleMap object at 0x7fe8ff2c75b0>       \n",
      "---------------------------------------------------------------------------\n",
      "\u001b[93m\n",
      "Map image is available in dataset/Test/satellite_0 as map_51.507621036434294_-0.12833497107293657_51.50708096071541_-0.1271810357482552_200.0_78.8_4_3.jpg\n",
      "\u001b[0m\u001b[40m\n",
      "---------------------------------------------------------------------------\n",
      "\u001b[0m\n",
      "[ 35.689487 139.691711 150.      ]\n",
      "Checking folder:\n",
      "\t dataset/Test/satellite_0 Folder Exists.\n",
      "0.00023603086147261365 0.00017781014373241533\n",
      "                    TL          BR Center TL (UTM) BR (UTM) Map Size (m)   \n",
      "y/lat         35.68969   35.689284    NaN      NaN      NaN          NaN  \\\n",
      "x/lon       139.691379  139.692043    NaN      NaN      NaN          NaN   \n",
      "z/agl              NaN         NaN    NaN      NaN      NaN          NaN   \n",
      "total/area         NaN         NaN    NaN      NaN      NaN          NaN   \n",
      "\n",
      "           Map Size (pixel/zoom) # Raster Images 1 Image Size (m)   \n",
      "y/lat                        494             NaN            60.09  \\\n",
      "x/lon                        372             NaN            45.07   \n",
      "z/agl                         20             NaN            45.72   \n",
      "total/area                   NaN             NaN          2708.26   \n",
      "\n",
      "           1 Image Size (pixel/zoom)  \n",
      "y/lat                            NaN  \n",
      "x/lon                            NaN  \n",
      "z/agl                            NaN  \n",
      "total/area                       NaN  \n",
      "-8.650174714830428e-05 -0.0002226904318760603\n"
     ]
    },
    {
     "ename": "ValueError",
     "evalue": "math domain error",
     "output_type": "error",
     "traceback": [
      "\u001b[0;31m---------------------------------------------------------------------------\u001b[0m",
      "\u001b[0;31mValueError\u001b[0m                                Traceback (most recent call last)",
      "Cell \u001b[0;32mIn[4], line 10\u001b[0m\n\u001b[1;32m      7\u001b[0m bbox \u001b[38;5;241m=\u001b[39m geo_helper\u001b[38;5;241m.\u001b[39mcalc_bbox_m(coords[:\u001b[38;5;241m2\u001b[39m],\n\u001b[1;32m      8\u001b[0m                                 bbox_m)\n\u001b[1;32m      9\u001b[0m args\u001b[38;5;241m.\u001b[39mcoords \u001b[38;5;241m=\u001b[39m \u001b[38;5;28mtuple\u001b[39m(np\u001b[38;5;241m.\u001b[39marray(bbox)\u001b[38;5;241m.\u001b[39mflatten()) \u001b[38;5;241m+\u001b[39m (coords[\u001b[38;5;241m-\u001b[39m\u001b[38;5;241m1\u001b[39m],)\n\u001b[0;32m---> 10\u001b[0m aerial_data \u001b[38;5;241m=\u001b[39m \u001b[43mGoogleMap\u001b[49m\u001b[43m(\u001b[49m\n\u001b[1;32m     11\u001b[0m \u001b[43m\u001b[49m\u001b[43margs\u001b[49m\u001b[38;5;241;43m=\u001b[39;49m\u001b[43margs\u001b[49m\u001b[43m,\u001b[49m\n\u001b[1;32m     12\u001b[0m \u001b[43m\u001b[49m\u001b[43mmap_type\u001b[49m\u001b[38;5;241;43m=\u001b[39;49m\u001b[38;5;124;43m'\u001b[39;49m\u001b[38;5;124;43msatellite\u001b[39;49m\u001b[38;5;124;43m'\u001b[39;49m\u001b[43m,\u001b[49m\n\u001b[1;32m     13\u001b[0m \u001b[43m\u001b[49m\u001b[43mdata_dir\u001b[49m\u001b[38;5;241;43m=\u001b[39;49m\u001b[43margs\u001b[49m\u001b[38;5;241;43m.\u001b[39;49m\u001b[43mdata_dir\u001b[49m\u001b[43m,\u001b[49m\n\u001b[1;32m     14\u001b[0m \u001b[43m\u001b[49m\u001b[43moverlap\u001b[49m\u001b[38;5;241;43m=\u001b[39;49m\u001b[43margs\u001b[49m\u001b[38;5;241;43m.\u001b[39;49m\u001b[43moverlap\u001b[49m\n\u001b[1;32m     15\u001b[0m \u001b[43m\u001b[49m\u001b[43m)\u001b[49m\n",
      "File \u001b[0;32m~/Projects/SkyAI-Sim/src/data/googlemap.py:98\u001b[0m, in \u001b[0;36mGoogleMap.__init__\u001b[0;34m(self, **kwargs)\u001b[0m\n\u001b[1;32m     94\u001b[0m \u001b[38;5;28mself\u001b[39m\u001b[38;5;241m.\u001b[39mlog[\u001b[38;5;124m'\u001b[39m\u001b[38;5;124mBR\u001b[39m\u001b[38;5;124m'\u001b[39m]\u001b[38;5;241m.\u001b[39miloc[:\u001b[38;5;241m2\u001b[39m] \u001b[38;5;241m=\u001b[39m \u001b[38;5;28mself\u001b[39m\u001b[38;5;241m.\u001b[39margs\u001b[38;5;241m.\u001b[39mcoords[\u001b[38;5;241m2\u001b[39m:\u001b[38;5;241m4\u001b[39m]\n\u001b[1;32m     96\u001b[0m io_helper\u001b[38;5;241m.\u001b[39mcheck_folder(\u001b[38;5;28mself\u001b[39m\u001b[38;5;241m.\u001b[39mdata_dir)\n\u001b[0;32m---> 98\u001b[0m \u001b[38;5;28;43mself\u001b[39;49m\u001b[38;5;241;43m.\u001b[39;49m\u001b[43mcheck_data\u001b[49m\u001b[43m(\u001b[49m\u001b[43m)\u001b[49m\n\u001b[1;32m    100\u001b[0m \u001b[38;5;28mself\u001b[39m\u001b[38;5;241m.\u001b[39minput_dir \u001b[38;5;241m=\u001b[39m io_helper\u001b[38;5;241m.\u001b[39mfind_files(\u001b[38;5;28mself\u001b[39m\u001b[38;5;241m.\u001b[39mdata_dir \u001b[38;5;241m/\u001b[39m\n\u001b[1;32m    101\u001b[0m                                          \u001b[38;5;28mself\u001b[39m\u001b[38;5;241m.\u001b[39mdata_info[\u001b[38;5;124m'\u001b[39m\u001b[38;5;124mx\u001b[39m\u001b[38;5;124m'\u001b[39m],\n\u001b[1;32m    102\u001b[0m                                          \u001b[38;5;124m'\u001b[39m\u001b[38;5;124mjpg\u001b[39m\u001b[38;5;124m'\u001b[39m)\n",
      "File \u001b[0;32m~/Projects/SkyAI-Sim/src/data/googlemap.py:137\u001b[0m, in \u001b[0;36mGoogleMap.check_data\u001b[0;34m(self)\u001b[0m\n\u001b[1;32m    131\u001b[0m \u001b[38;5;66;03m## Start Raster from TL of the map\u001b[39;00m\n\u001b[1;32m    132\u001b[0m \u001b[38;5;66;03m# get coordinates of the corners\u001b[39;00m\n\u001b[1;32m    133\u001b[0m \u001b[38;5;66;03m# of the top most left image in the raster mission\u001b[39;00m\n\u001b[1;32m    134\u001b[0m tl, br \u001b[38;5;241m=\u001b[39m geo_helper\u001b[38;5;241m.\u001b[39mmeters2geo(\n\u001b[1;32m    135\u001b[0m     center\u001b[38;5;241m=\u001b[39mtop_left,\n\u001b[1;32m    136\u001b[0m     img_size\u001b[38;5;241m=\u001b[39m\u001b[38;5;28mself\u001b[39m\u001b[38;5;241m.\u001b[39mlog[\u001b[38;5;124m'\u001b[39m\u001b[38;5;124m1 Image Size (m)\u001b[39m\u001b[38;5;124m'\u001b[39m]\u001b[38;5;241m.\u001b[39miloc[:\u001b[38;5;241m2\u001b[39m])\n\u001b[0;32m--> 137\u001b[0m raster_zoom, im_size \u001b[38;5;241m=\u001b[39m \u001b[43mgeo_helper\u001b[49m\u001b[38;5;241;43m.\u001b[39;49m\u001b[43mget_zoom_from_bounds\u001b[49m\u001b[43m(\u001b[49m\u001b[43mtl\u001b[49m\u001b[43m,\u001b[49m\u001b[43m \u001b[49m\u001b[43mbr\u001b[49m\u001b[43m)\u001b[49m\n\u001b[1;32m    138\u001b[0m \u001b[38;5;28mself\u001b[39m\u001b[38;5;241m.\u001b[39mlog[\u001b[38;5;124m'\u001b[39m\u001b[38;5;124m1 Image Size (pixel/zoom)\u001b[39m\u001b[38;5;124m'\u001b[39m]\u001b[38;5;241m.\u001b[39miloc[:\u001b[38;5;241m-\u001b[39m\u001b[38;5;241m1\u001b[39m] \u001b[38;5;241m=\u001b[39m im_size \u001b[38;5;241m+\u001b[39m [raster_zoom]\n\u001b[1;32m    140\u001b[0m \u001b[38;5;66;03m## Convert geolocation of the raster corners to utm\u001b[39;00m\n\u001b[1;32m    141\u001b[0m \u001b[38;5;66;03m# TL point\u001b[39;00m\n",
      "File \u001b[0;32m~/Projects/SkyAI-Sim/src/utils/geo_helper.py:202\u001b[0m, in \u001b[0;36mget_zoom_from_bounds\u001b[0;34m(top_left, bottom_right, zoom_bound)\u001b[0m\n\u001b[1;32m    198\u001b[0m \u001b[38;5;66;03m# The bigger width along x or y will be the img_size\u001b[39;00m\n\u001b[1;32m    199\u001b[0m \u001b[38;5;66;03m# The other width is adjusted based on aspect ratio\u001b[39;00m\n\u001b[1;32m    200\u001b[0m \u001b[38;5;66;03m# Determine zoom level\u001b[39;00m\n\u001b[1;32m    201\u001b[0m \u001b[38;5;28mprint\u001b[39m(half_pw_x, half_pw_y)\n\u001b[0;32m--> 202\u001b[0m zoom \u001b[38;5;241m=\u001b[39m \u001b[38;5;28mint\u001b[39m(\u001b[38;5;241m-\u001b[39m\u001b[43mmath\u001b[49m\u001b[38;5;241;43m.\u001b[39;49m\u001b[43mlog2\u001b[49m\u001b[43m(\u001b[49m\u001b[38;5;28;43mmax\u001b[39;49m\u001b[43m(\u001b[49m\u001b[43mhalf_pw_x\u001b[49m\u001b[43m,\u001b[49m\u001b[43m \u001b[49m\u001b[43mhalf_pw_y\u001b[49m\u001b[43m)\u001b[49m\u001b[43m \u001b[49m\u001b[38;5;241;43m/\u001b[39;49m\u001b[43m \u001b[49m\u001b[43mimg_size\u001b[49m\u001b[43m)\u001b[49m \u001b[38;5;241m-\u001b[39m \u001b[38;5;241m1\u001b[39m)\n\u001b[1;32m    204\u001b[0m \u001b[38;5;66;03m# Calculate final image width and height based on zoom level\u001b[39;00m\n\u001b[1;32m    205\u001b[0m scaling_factor \u001b[38;5;241m=\u001b[39m \u001b[38;5;241m2\u001b[39m \u001b[38;5;241m*\u001b[39m\u001b[38;5;241m*\u001b[39m (zoom \u001b[38;5;241m+\u001b[39m \u001b[38;5;241m1\u001b[39m)\n",
      "\u001b[0;31mValueError\u001b[0m: math domain error"
     ]
    }
   ],
   "source": [
    "for coords in coords_list:\n",
    "        print(coords)\n",
    "        bbox_m = geo_helper.get_map_dim_m(\n",
    "                args.fov, coords[-1],\n",
    "                args.aspect_ratio[0]/args.aspect_ratio[1]\n",
    "                )\n",
    "        bbox = geo_helper.calc_bbox_m(coords[:2],\n",
    "                                        bbox_m)\n",
    "        args.coords = tuple(np.array(bbox).flatten()) + (coords[-1],)\n",
    "        aerial_data = GoogleMap(\n",
    "        args=args,\n",
    "        map_type='satellite',\n",
    "        data_dir=args.data_dir,\n",
    "        overlap=args.overlap\n",
    "        )"
   ]
  },
  {
   "cell_type": "code",
   "execution_count": null,
   "metadata": {},
   "outputs": [],
   "source": []
  }
 ],
 "metadata": {
  "kernelspec": {
   "display_name": "test",
   "language": "python",
   "name": "python3"
  },
  "language_info": {
   "codemirror_mode": {
    "name": "ipython",
    "version": 3
   },
   "file_extension": ".py",
   "mimetype": "text/x-python",
   "name": "python",
   "nbconvert_exporter": "python",
   "pygments_lexer": "ipython3",
   "version": "3.10.14"
  }
 },
 "nbformat": 4,
 "nbformat_minor": 2
}
